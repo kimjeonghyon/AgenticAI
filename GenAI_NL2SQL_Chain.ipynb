{
 "cells": [
  {
   "cell_type": "code",
   "execution_count": 1,
   "id": "c19b1b0f-d13d-4635-badf-4ab17de5d589",
   "metadata": {},
   "outputs": [],
   "source": [
    "from dotenv import load_dotenv\n",
    "import os\n",
    "from langchain_openai import ChatOpenAI\n",
    "from langchain_community.utilities import SQLDatabase\n",
    "from langchain_core.prompts import PromptTemplate\n",
    "from langchain.chains import create_sql_query_chain\n"
   ]
  },
  {
   "cell_type": "code",
   "execution_count": 2,
   "id": "6e417321-c006-4b3d-a4d6-b8d995a69c63",
   "metadata": {},
   "outputs": [
    {
     "data": {
      "text/plain": [
       "True"
      ]
     },
     "execution_count": 2,
     "metadata": {},
     "output_type": "execute_result"
    }
   ],
   "source": [
    "load_dotenv()"
   ]
  },
  {
   "cell_type": "code",
   "execution_count": 3,
   "id": "e74c52d2-8ca2-4400-956c-5d9c6fe1d264",
   "metadata": {},
   "outputs": [],
   "source": [
    "# Setup\n",
    "service_account_file = f\"{os.getcwd()}/cns_dev_gcp.json\"\n",
    "os.environ[\"GOOGLE_APPLICATION_CREDENTIALS\"] = service_account_file"
   ]
  },
  {
   "cell_type": "code",
   "execution_count": 4,
   "id": "d8697957-44b0-4d88-918e-9a44b6836561",
   "metadata": {},
   "outputs": [],
   "source": [
    "project='cdp-develop-347807'\n",
    "dataset='pipst'\n",
    "table_names_to_use=['l0lc_attribute_custom_key_affiliate','l0lc_behv_app_custom_key_affiliate','l0lc_behv_purchase_custom_key_affiliate']"
   ]
  },
  {
   "cell_type": "code",
   "execution_count": 5,
   "id": "31c15c20-964d-4d10-aa39-67c80aa179dc",
   "metadata": {},
   "outputs": [],
   "source": [
    "# Connect to your Google BigQuery database\n",
    "# db = SQLDatabase.from_uri(\"bigquery://cdp-develop-347807\")\n",
    "bigquery_url = f'bigquery://{project}/{dataset}?credentials_path={service_account_file}'\n",
    "db = SQLDatabase.from_uri(bigquery_url)"
   ]
  },
  {
   "cell_type": "code",
   "execution_count": 6,
   "id": "4d37b3b6-629e-4747-ad1a-86d7a4a0a267",
   "metadata": {},
   "outputs": [],
   "source": [
    "# Create a language model\n",
    "model = ChatOpenAI(model=\"gpt-4o\", temperature=0)"
   ]
  },
  {
   "cell_type": "code",
   "execution_count": 7,
   "id": "359eba35-8ef0-484b-8fcc-1bb607a9f883",
   "metadata": {},
   "outputs": [],
   "source": [
    "chain = create_sql_query_chain(model, db,k=3)"
   ]
  },
  {
   "cell_type": "code",
   "execution_count": 8,
   "id": "2a4b728f-1c51-4861-975f-bfcf53fb595b",
   "metadata": {},
   "outputs": [
    {
     "name": "stdout",
     "output_type": "stream",
     "text": [
      "\"```sql\\nSELECT COUNT(*) AS female_customer_count\\nFROM `l0lc_attribute_custom_key_affiliate`\\nWHERE gender = 'F'\\n```\"\n"
     ]
    }
   ],
   "source": [
    "generated_sql_query = chain.invoke({\"question\": \"여성 고객 수를 구하세요\",\n",
    "                                    \"table_names_to_use\":table_names_to_use})\n",
    "print(generated_sql_query.__repr__())"
   ]
  },
  {
   "cell_type": "code",
   "execution_count": 9,
   "id": "e8cd67a5-d2d0-4482-85c9-782abeb12285",
   "metadata": {},
   "outputs": [
    {
     "data": {
      "text/plain": [
       "RunnableAssign(mapper={\n",
       "  input: RunnableLambda(...),\n",
       "  table_info: RunnableLambda(...)\n",
       "})\n",
       "| RunnableLambda(lambda x: {k: v for k, v in x.items() if k not in ('question', 'table_names_to_use')})\n",
       "| PromptTemplate(input_variables=['input', 'table_info'], input_types={}, partial_variables={'dialect': 'bigquery', 'top_k': '3'}, template='Given an input question, first create a syntactically correct {dialect} query to run, then look at the results of the query and return the answer. Unless the user specifies in his question a specific number of examples he wishes to obtain, always limit your query to at most {top_k} results. You can order the results by a relevant column to return the most interesting examples in the database.\\n\\nNever query for all the columns from a specific table, only ask for a the few relevant columns given the question.\\n\\nPay attention to use only the column names that you can see in the schema description. Be careful to not query for columns that do not exist. Also, pay attention to which column is in which table.\\n\\nUse the following format:\\n\\nQuestion: Question here\\nSQLQuery: SQL Query to run\\nSQLResult: Result of the SQLQuery\\nAnswer: Final answer here\\n\\nOnly use the following tables:\\n{table_info}\\n\\nQuestion: {input}')\n",
       "| RunnableBinding(bound=ChatOpenAI(client=<openai.resources.chat.completions.Completions object at 0x16729c250>, async_client=<openai.resources.chat.completions.AsyncCompletions object at 0x16728cf50>, root_client=<openai.OpenAI object at 0x1063582d0>, root_async_client=<openai.AsyncOpenAI object at 0x119c0af50>, model_name='gpt-4o', temperature=0.0, model_kwargs={}, openai_api_key=SecretStr('**********')), kwargs={'stop': ['\\nSQLResult:']}, config={}, config_factories=[])\n",
       "| StrOutputParser()\n",
       "| RunnableLambda(_strip)"
      ]
     },
     "execution_count": 9,
     "metadata": {},
     "output_type": "execute_result"
    }
   ],
   "source": [
    "chain"
   ]
  }
 ],
 "metadata": {
  "kernelspec": {
   "display_name": "Python 3 (ipykernel)",
   "language": "python",
   "name": "python3"
  },
  "language_info": {
   "codemirror_mode": {
    "name": "ipython",
    "version": 3
   },
   "file_extension": ".py",
   "mimetype": "text/x-python",
   "name": "python",
   "nbconvert_exporter": "python",
   "pygments_lexer": "ipython3",
   "version": "3.11.10"
  }
 },
 "nbformat": 4,
 "nbformat_minor": 5
}
